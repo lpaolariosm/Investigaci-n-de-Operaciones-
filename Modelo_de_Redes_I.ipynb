{
  "nbformat": 4,
  "nbformat_minor": 0,
  "metadata": {
    "colab": {
      "provenance": [],
      "authorship_tag": "ABX9TyOwypBH+XpK5xHHUOKyMeEY",
      "include_colab_link": true
    },
    "kernelspec": {
      "name": "python3",
      "display_name": "Python 3"
    },
    "language_info": {
      "name": "python"
    }
  },
  "cells": [
    {
      "cell_type": "markdown",
      "metadata": {
        "id": "view-in-github",
        "colab_type": "text"
      },
      "source": [
        "<a href=\"https://colab.research.google.com/github/lpaolariosm/Investigaci-n-de-Operaciones-/blob/main/Modelo_de_Redes_I.ipynb\" target=\"_parent\"><img src=\"https://colab.research.google.com/assets/colab-badge.svg\" alt=\"Open In Colab\"/></a>"
      ]
    },
    {
      "cell_type": "markdown",
      "source": [
        "# <span style=\"color:red;\"> \" NETWORKX \"</span>\n",
        "<span style=\"color:black;\"></span>\n",
        "\n",
        "La estructura de NetworkX se puede ver por la organización de su código fuente. El paquete proporciona clases para objetos de grafo, generadores para crear gráficos, rutinas IO para leer en conjuntos de datos existentes, algoritmos para analizar las redes resultantes y algunas herramientas básicas de dibujo."
      ],
      "metadata": {
        "id": "Z0agilFTbsAu"
      }
    },
    {
      "cell_type": "markdown",
      "source": [
        "# <span style=\"color:orange;\"> \" Conceptos básicos de NetworkX \"</span>"
      ],
      "metadata": {
        "id": "TXvCQll7nJE_"
      }
    },
    {
      "cell_type": "markdown",
      "source": [
        "La librería a usar para dibujar las redes. Para ahorrar repetición, en la documentación asumimos que NetworkX se ha importado de esta manera."
      ],
      "metadata": {
        "id": "86eQG3ZNebbL"
      }
    },
    {
      "cell_type": "code",
      "execution_count": 18,
      "metadata": {
        "id": "ACbjnE0GXNpp"
      },
      "outputs": [],
      "source": [
        "import networkx as nx"
      ]
    },
    {
      "cell_type": "markdown",
      "source": [
        "Los siguientes tipos de gráficos básicos se proporcionan como clases de Python:\n",
        "\n",
        "- Gráfico\n",
        "\n",
        "Esta clase implementa un grafo no dirigido. Ignora múltiples bordes entre dos nodos. Permite el autobucle entre un nodo y sí mismo.\n",
        "\n",
        "- Dígrafo\n",
        "\n",
        "Gráficas dirigidas, es decir, gráficas con aristas dirigidas. Proporciona operaciones comunes a los gráficos dirigidos, (una subclase de Graph).\n",
        "\n",
        "- MultiGraph\n",
        "\n",
        "Una clase de grafo flexible que permite múltiples aristas no dirigidas entre pares de nodos. La flexibilidad adicional conduce a cierta degradación en rendimiento, aunque generalmente no es significativo.\n",
        "\n",
        "- MultiDiGraph\n",
        "\n",
        "Una versión dirigida de un MultiGraph."
      ],
      "metadata": {
        "id": "RM-fVZgcnr-5"
      }
    },
    {
      "cell_type": "markdown",
      "source": [
        "# <span style=\"color:yellow;\"> \" Gráficos \"</span>\n",
        "\n",
        "La primera elección que se debe hacer al usar NetworkX es qué tipo de gráfico objeto de uso. Un grafo (red) es una colección de nodos juntos con una colección de bordes que son pares de nodos."
      ],
      "metadata": {
        "id": "_-yvYJFPoU3W"
      }
    },
    {
      "cell_type": "code",
      "source": [
        "G = nx.DiGraph() #grafica dirigida\n",
        "G = nx.Graph()\n",
        "G = nx.MultiGraph()\n",
        "G = nx.MultiDiGraph()"
      ],
      "metadata": {
        "id": "Z3o4YmrJXz38"
      },
      "execution_count": 19,
      "outputs": []
    },
    {
      "cell_type": "markdown",
      "source": [
        "# <span style=\"color:yellow;\"> \" Nodos y bordes \"</span>\n",
        "La siguiente elección que debe hacer al especificar un gráfico es qué tipos de nodos y bordes a usar.\n",
        "\n",
        "Si la topología de la red es todo lo que se preocupan por el uso de números enteros o cadenas ya que los nodos tienen sentido y No necesita preocuparse por los datos perimetrales. Si tiene una estructura de datos ya está en su lugar para describir los nodos, simplemente puede usar esa estructura como sus nodos proporcionados, es hashable. Si no es hashable puedes Usar un identificador único para representar el nodo y asignar los datos como un atributo de nodo."
      ],
      "metadata": {
        "id": "H9luclAQoquF"
      }
    },
    {
      "cell_type": "code",
      "source": [
        "G.add_edge(\"A\",\"B\") #Agrega el arco de A a B"
      ],
      "metadata": {
        "id": "z-wybpwrYwiS",
        "colab": {
          "base_uri": "https://localhost:8080/"
        },
        "outputId": "8c199b42-c1d5-431e-98a0-69155bd423ae"
      },
      "execution_count": 20,
      "outputs": [
        {
          "output_type": "execute_result",
          "data": {
            "text/plain": [
              "0"
            ]
          },
          "metadata": {},
          "execution_count": 20
        }
      ]
    },
    {
      "cell_type": "code",
      "source": [
        "G.add_edge(\"B\",\"C\")"
      ],
      "metadata": {
        "id": "AcKA8qDKaRx1",
        "colab": {
          "base_uri": "https://localhost:8080/"
        },
        "outputId": "ca89aaaf-418a-4b21-e6f5-9d79ef996dfa"
      },
      "execution_count": 21,
      "outputs": [
        {
          "output_type": "execute_result",
          "data": {
            "text/plain": [
              "0"
            ]
          },
          "metadata": {},
          "execution_count": 21
        }
      ]
    },
    {
      "cell_type": "code",
      "source": [
        "G.add_edge(\"B\",\"D\")"
      ],
      "metadata": {
        "id": "rQG_JvxSad8u",
        "colab": {
          "base_uri": "https://localhost:8080/"
        },
        "outputId": "a80ed3a5-59b0-4af6-edba-bb8a8b8df22e"
      },
      "execution_count": 22,
      "outputs": [
        {
          "output_type": "execute_result",
          "data": {
            "text/plain": [
              "0"
            ]
          },
          "metadata": {},
          "execution_count": 22
        }
      ]
    },
    {
      "cell_type": "code",
      "source": [
        "G.add_edge(\"C\",\"D\")"
      ],
      "metadata": {
        "id": "9Vz37JYmaqkk",
        "colab": {
          "base_uri": "https://localhost:8080/"
        },
        "outputId": "f85944a8-dc19-4dbb-89bf-cf63e46b5404"
      },
      "execution_count": 23,
      "outputs": [
        {
          "output_type": "execute_result",
          "data": {
            "text/plain": [
              "0"
            ]
          },
          "metadata": {},
          "execution_count": 23
        }
      ]
    },
    {
      "cell_type": "code",
      "source": [
        "G.add_edge(\"A\",\"C\")"
      ],
      "metadata": {
        "id": "Covsy_4Pa4qB",
        "colab": {
          "base_uri": "https://localhost:8080/"
        },
        "outputId": "5ba30590-f5b9-4064-dd63-7180bb3111e7"
      },
      "execution_count": 24,
      "outputs": [
        {
          "output_type": "execute_result",
          "data": {
            "text/plain": [
              "0"
            ]
          },
          "metadata": {},
          "execution_count": 24
        }
      ]
    },
    {
      "cell_type": "markdown",
      "source": [
        "Cada uno de estos comandos agrega un arco de nodo a nodo, tenemos que definir cada uno."
      ],
      "metadata": {
        "id": "mqjiUrFNep08"
      }
    },
    {
      "cell_type": "markdown",
      "source": [
        "# <span style=\"color:yellow;\"> \" Creación de gráficos \"</span>\n",
        "Los objetos de gráfico de NetworkX se pueden crear de tres maneras:\n",
        "\n",
        "- Generadores de gráficos: algoritmos estándar para crear topologías de red.\n",
        "\n",
        "- Importación de datos de fuentes preexistentes (normalmente archivos).\n",
        "\n",
        "- Agregar bordes y nodos explícitamente.\n",
        "\n",
        "La adición y eliminación explícita de nodos/bordes es la más fácil de describir. Cada objeto de gráfico proporciona métodos para manipular el gráfico. Por ejemplo"
      ],
      "metadata": {
        "id": "_xP7h9Bco63-"
      }
    },
    {
      "cell_type": "code",
      "source": [
        "G = nx.Graph()\n",
        "G.add_edge(1, 2)  # default edge data=1\n",
        "G.add_edge(2, 3, weight=0.9)  # specify edge data"
      ],
      "metadata": {
        "id": "mfHYVQknaEei"
      },
      "execution_count": 35,
      "outputs": []
    },
    {
      "cell_type": "markdown",
      "source": [
        "# <span style=\"color:yellow;\"> \" Informes de gráficos \"</span>\n",
        "Las vistas de clase proporcionan informes básicos de nodos, vecinos, bordes y grados. Estas vistas proporcionan iteración sobre las propiedades, así como la pertenencia consultas y búsqueda de atributos de datos. Las vistas hacen referencia a la estructura de datos del gráfico por lo que los cambios en el gráfico se reflejan en las vistas. Esto es análogo a vistas de diccionario en Python 3. Si desea cambiar el gráfico mientras itera Deberá usar, por ejemplo, . Las vistas proporcionan operaciones similares a conjuntos, por ejemplo, unión e intersección, así como búsqueda e iteración de los atributos de datos usando y . Métodos y son familiares de los dictados de Python. Además, proporciona una iteración de atributos específicos, por ejemplo."
      ],
      "metadata": {
        "id": "Y5VXn9VbptbO"
      }
    },
    {
      "cell_type": "code",
      "source": [
        "nx.nodes(G)"
      ],
      "metadata": {
        "colab": {
          "base_uri": "https://localhost:8080/"
        },
        "id": "ZSKyOKVfd5Xl",
        "outputId": "6ba7f885-b905-4df1-b336-de33d8cd5c88"
      },
      "execution_count": 10,
      "outputs": [
        {
          "output_type": "execute_result",
          "data": {
            "text/plain": [
              "NodeView(('A', 'B', 'C', 'D'))"
            ]
          },
          "metadata": {},
          "execution_count": 10
        }
      ]
    },
    {
      "cell_type": "markdown",
      "source": [
        "Especifica todos los nodos de la red."
      ],
      "metadata": {
        "id": "XVfk-ly8e9kV"
      }
    },
    {
      "cell_type": "code",
      "source": [
        "nx.number_of_nodes(G)"
      ],
      "metadata": {
        "colab": {
          "base_uri": "https://localhost:8080/"
        },
        "id": "-iObVFnFdM00",
        "outputId": "5d9eaf46-eade-4700-c4c9-fa13775b3798"
      },
      "execution_count": 11,
      "outputs": [
        {
          "output_type": "execute_result",
          "data": {
            "text/plain": [
              "4"
            ]
          },
          "metadata": {},
          "execution_count": 11
        }
      ]
    },
    {
      "cell_type": "markdown",
      "source": [
        "Número total de nodos."
      ],
      "metadata": {
        "id": "TUODVyV3fEvR"
      }
    },
    {
      "cell_type": "code",
      "source": [
        "nx.edges(G)"
      ],
      "metadata": {
        "colab": {
          "base_uri": "https://localhost:8080/"
        },
        "id": "UsuaYJ_kdg4o",
        "outputId": "af7c7876-0bd7-485a-a48d-13182ac6cf43"
      },
      "execution_count": 12,
      "outputs": [
        {
          "output_type": "execute_result",
          "data": {
            "text/plain": [
              "OutMultiEdgeDataView([('A', 'B'), ('A', 'C'), ('B', 'C'), ('B', 'D'), ('C', 'D')])"
            ]
          },
          "metadata": {},
          "execution_count": 12
        }
      ]
    },
    {
      "cell_type": "markdown",
      "source": [
        "Especifica los arcos y de que nodo a nodo va."
      ],
      "metadata": {
        "id": "Hi7eLG51fHCW"
      }
    },
    {
      "cell_type": "code",
      "source": [
        "G"
      ],
      "metadata": {
        "colab": {
          "base_uri": "https://localhost:8080/"
        },
        "id": "k7DDWZ8fZsiT",
        "outputId": "eb53be99-0a34-4305-952e-ddab18260340"
      },
      "execution_count": 13,
      "outputs": [
        {
          "output_type": "execute_result",
          "data": {
            "text/plain": [
              "<networkx.classes.multidigraph.MultiDiGraph at 0x79d22741a1b0>"
            ]
          },
          "metadata": {},
          "execution_count": 13
        }
      ]
    },
    {
      "cell_type": "markdown",
      "source": [
        "Sólo nos da información sobre \"G\""
      ],
      "metadata": {
        "id": "kQMin5bDfOI1"
      }
    },
    {
      "cell_type": "markdown",
      "source": [
        "# <span style=\"color:yellow;\"> \" Algoritmos \"</span>\n",
        "NetworkX proporciona varios algoritmos de gráficos. Estos incluyen la ruta más corta y la búsqueda de amplitud (ver recorrido), algoritmos de agrupamiento e isomorfismo y otros. Hay muchos que aún no hemos desarrollado también."
      ],
      "metadata": {
        "id": "RL-2aOTKqibj"
      }
    },
    {
      "cell_type": "code",
      "source": [
        "G = nx.Graph()\n",
        "e = [('a', 'b', 0.3), ('b', 'c', 0.9), ('a', 'c', 0.5), ('c', 'd', 1.2)]\n",
        "G.add_weighted_edges_from(e)\n",
        "print(nx.dijkstra_path(G, 'a', 'd'))"
      ],
      "metadata": {
        "id": "XClOZstCqsaN",
        "outputId": "3f84918a-5918-4a1b-a4d8-826fd5dea53e",
        "colab": {
          "base_uri": "https://localhost:8080/"
        }
      },
      "execution_count": 34,
      "outputs": [
        {
          "output_type": "stream",
          "name": "stdout",
          "text": [
            "['a', 'c', 'd']\n"
          ]
        }
      ]
    },
    {
      "cell_type": "markdown",
      "source": [
        "# <span style=\"color:yellow;\"> \" Dibujo \"</span>\n",
        "Si bien NetworkX no está diseñado como una herramienta de dibujo de red, proporcionamos una interfaz simple para dibujar paquetes y algunos algoritmos de diseño simples. Interactuamos con las excelentes herramientas de diseño de Graphviz como dot y neato con el paquete pygraphviz (sugerido) o la interfaz pydot. El dibujo se puede hacer usando programas externos o Matplotlib Python paquete."
      ],
      "metadata": {
        "id": "HHDN8HPNq9LF"
      }
    },
    {
      "cell_type": "code",
      "source": [
        "nx.draw_networkx(G)\n",
        "import matplotlib.pyplot as plt\n",
        "G = nx.cubical_graph()\n",
        "subax1 = plt.subplot(121)\n",
        "nx.draw(G)   # default spring_layout\n",
        "subax2 = plt.subplot(122)\n",
        "nx.draw(G, pos=nx.circular_layout(G), node_color='y', edge_color='b')"
      ],
      "metadata": {
        "id": "BbEVVo14q3jT",
        "outputId": "e8de058c-3279-4324-8021-0234fd4d9926",
        "colab": {
          "base_uri": "https://localhost:8080/",
          "height": 406
        }
      },
      "execution_count": 38,
      "outputs": [
        {
          "output_type": "display_data",
          "data": {
            "text/plain": [
              "<Figure size 640x480 with 3 Axes>"
            ],
            "image/png": "[encoded data removed]"
          },
          "metadata": {}
        }
      ]
    }
  ]
}