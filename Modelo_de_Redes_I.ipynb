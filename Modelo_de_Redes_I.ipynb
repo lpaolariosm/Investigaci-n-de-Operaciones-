{
  "nbformat": 4,
  "nbformat_minor": 0,
  "metadata": {
    "colab": {
      "provenance": [],
      "authorship_tag": "ABX9TyPUeAgghy0J1cr9jeR5OYiE",
      "include_colab_link": true
    },
    "kernelspec": {
      "name": "python3",
      "display_name": "Python 3"
    },
    "language_info": {
      "name": "python"
    }
  },
  "cells": [
    {
      "cell_type": "markdown",
      "metadata": {
        "id": "view-in-github",
        "colab_type": "text"
      },
      "source": [
        "<a href=\"https://colab.research.google.com/github/lpaolariosm/Investigaci-n-de-Operaciones-/blob/main/Modelo_de_Redes_I.ipynb\" target=\"_parent\"><img src=\"https://colab.research.google.com/assets/colab-badge.svg\" alt=\"Open In Colab\"/></a>"
      ]
    },
    {
      "cell_type": "markdown",
      "source": [
        "# <span style=\"color:orange;\"> \" Modelo de Redes \"</span>\n",
        "<span style=\"color:blue;\"></span>"
      ],
      "metadata": {
        "id": "Z0agilFTbsAu"
      }
    },
    {
      "cell_type": "code",
      "execution_count": 3,
      "metadata": {
        "id": "ACbjnE0GXNpp"
      },
      "outputs": [],
      "source": [
        "import networkx as nx"
      ]
    },
    {
      "cell_type": "markdown",
      "source": [
        "La librería a usar para dibujar las redes."
      ],
      "metadata": {
        "id": "86eQG3ZNebbL"
      }
    },
    {
      "cell_type": "code",
      "source": [
        "G = nx.DiGraph() #grafica dirigida"
      ],
      "metadata": {
        "id": "Z3o4YmrJXz38"
      },
      "execution_count": 4,
      "outputs": []
    },
    {
      "cell_type": "code",
      "source": [
        "G.add_edge(\"A\",\"B\") #Agrega el arco de A a B"
      ],
      "metadata": {
        "id": "z-wybpwrYwiS"
      },
      "execution_count": 73,
      "outputs": []
    },
    {
      "cell_type": "code",
      "source": [
        "G.add_edge(\"B\",\"C\")"
      ],
      "metadata": {
        "id": "AcKA8qDKaRx1"
      },
      "execution_count": 72,
      "outputs": []
    },
    {
      "cell_type": "code",
      "source": [
        "G.add_edge(\"B\",\"D\")"
      ],
      "metadata": {
        "id": "rQG_JvxSad8u"
      },
      "execution_count": 71,
      "outputs": []
    },
    {
      "cell_type": "code",
      "source": [
        "G.add_edge(\"C\",\"D\")"
      ],
      "metadata": {
        "id": "9Vz37JYmaqkk"
      },
      "execution_count": 70,
      "outputs": []
    },
    {
      "cell_type": "code",
      "source": [
        "G.add_edge(\"A\",\"C\")"
      ],
      "metadata": {
        "id": "Covsy_4Pa4qB"
      },
      "execution_count": 69,
      "outputs": []
    },
    {
      "cell_type": "markdown",
      "source": [
        "Cada uno de estos comandos agrega un arco de nodo a nodo, tenemos que definir cada uno."
      ],
      "metadata": {
        "id": "mqjiUrFNep08"
      }
    },
    {
      "cell_type": "code",
      "source": [
        "nx.draw_networkx(G)"
      ],
      "metadata": {
        "colab": {
          "base_uri": "https://localhost:8080/",
          "height": 222
        },
        "id": "mfHYVQknaEei",
        "outputId": "32691856-1928-43dd-e67a-1df45251f811"
      },
      "execution_count": 78,
      "outputs": [
        {
          "output_type": "display_data",
          "data": {
            "text/plain": [
              "<Figure size 640x480 with 1 Axes>"
            ],
            "image/png": "[encoded data removed]"
          },
          "metadata": {}
        }
      ]
    },
    {
      "cell_type": "markdown",
      "source": [
        "Este comando nos dibuja todos los arcos definidos, y de dónde a dónde van"
      ],
      "metadata": {
        "id": "VrfBW8bCezQu"
      }
    },
    {
      "cell_type": "code",
      "source": [
        "nx.nodes(G)"
      ],
      "metadata": {
        "colab": {
          "base_uri": "https://localhost:8080/"
        },
        "id": "ZSKyOKVfd5Xl",
        "outputId": "6bc02d20-aafd-44da-e527-1c659cbfe2c3"
      },
      "execution_count": 79,
      "outputs": [
        {
          "output_type": "execute_result",
          "data": {
            "text/plain": [
              "NodeView(('A', 'B', 'C', 'D'))"
            ]
          },
          "metadata": {},
          "execution_count": 79
        }
      ]
    },
    {
      "cell_type": "markdown",
      "source": [
        "Especifica todos los nodos de la red."
      ],
      "metadata": {
        "id": "XVfk-ly8e9kV"
      }
    },
    {
      "cell_type": "code",
      "source": [
        "nx.number_of_nodes(G)"
      ],
      "metadata": {
        "colab": {
          "base_uri": "https://localhost:8080/"
        },
        "id": "-iObVFnFdM00",
        "outputId": "f6dfec4d-9a22-4855-9724-dcf7d0bbe672"
      },
      "execution_count": 59,
      "outputs": [
        {
          "output_type": "execute_result",
          "data": {
            "text/plain": [
              "4"
            ]
          },
          "metadata": {},
          "execution_count": 59
        }
      ]
    },
    {
      "cell_type": "markdown",
      "source": [
        "Número total de nodos."
      ],
      "metadata": {
        "id": "TUODVyV3fEvR"
      }
    },
    {
      "cell_type": "code",
      "source": [
        "nx.edges(G)"
      ],
      "metadata": {
        "colab": {
          "base_uri": "https://localhost:8080/"
        },
        "id": "UsuaYJ_kdg4o",
        "outputId": "3b37bcba-964b-4dce-b75c-6df6d62bda3c"
      },
      "execution_count": 60,
      "outputs": [
        {
          "output_type": "execute_result",
          "data": {
            "text/plain": [
              "OutEdgeView([('A', 'B'), ('A', 'C'), ('B', 'C'), ('B', 'D'), ('C', 'D')])"
            ]
          },
          "metadata": {},
          "execution_count": 60
        }
      ]
    },
    {
      "cell_type": "markdown",
      "source": [
        "Especifica los arcos y de que nodo a nodo va."
      ],
      "metadata": {
        "id": "Hi7eLG51fHCW"
      }
    },
    {
      "cell_type": "code",
      "source": [
        "G"
      ],
      "metadata": {
        "colab": {
          "base_uri": "https://localhost:8080/"
        },
        "id": "k7DDWZ8fZsiT",
        "outputId": "62846255-2d43-48ba-d55b-669cfbab1d45"
      },
      "execution_count": 6,
      "outputs": [
        {
          "output_type": "execute_result",
          "data": {
            "text/plain": [
              "<networkx.classes.digraph.DiGraph at 0x7fd25e5dddc0>"
            ]
          },
          "metadata": {},
          "execution_count": 6
        }
      ]
    },
    {
      "cell_type": "markdown",
      "source": [
        "Sólo nos da información sobre \"G\""
      ],
      "metadata": {
        "id": "kQMin5bDfOI1"
      }
    }
  ]
}