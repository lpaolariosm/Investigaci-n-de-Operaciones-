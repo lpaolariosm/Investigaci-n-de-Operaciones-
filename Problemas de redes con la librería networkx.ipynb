{
  "nbformat": 4,
  "nbformat_minor": 0,
  "metadata": {
    "colab": {
      "provenance": [],
      "authorship_tag": "ABX9TyOdFUTgYQexkG5Z3tSmq82q",
      "include_colab_link": true
    },
    "kernelspec": {
      "name": "python3",
      "display_name": "Python 3"
    },
    "language_info": {
      "name": "python"
    }
  },
  "cells": [
    {
      "cell_type": "markdown",
      "metadata": {
        "id": "view-in-github",
        "colab_type": "text"
      },
      "source": [
        "<a href=\"https://colab.research.google.com/github/lpaolariosm/Investigaci-n-de-Operaciones-/blob/main/Problemas%20de%20redes%20con%20la%20librer%C3%ADa%20networkx.ipynb\" target=\"_parent\"><img src=\"https://colab.research.google.com/assets/colab-badge.svg\" alt=\"Open In Colab\"/></a>"
      ]
    },
    {
      "cell_type": "markdown",
      "source": [
        "# <span style=\"color:red;\"> \" PROBLEMAS DE REDES CON LA LIBRERIA NETWORKX \"</span>\n",
        "<span style=\"color:black;\"></span>\n",
        "NetworkX es una biblioteca para el análisis de redes. A continuación se presentan las funciones clave de NetworkX para los problemas de árbol de expansión mínima, ruta más corta y flujo máxima, junto con un ejemplo de uso para cada uno."
      ],
      "metadata": {
        "id": "I0mJK7q8sl5B"
      }
    },
    {
      "cell_type": "markdown",
      "source": [
        "# <span style=\"color:orange;\"> \" Árbol de Expansión Mínima \"</span>\n",
        "<span style=\"color:black;\"></span>\n",
        "La función principal para obtener el Árbol de Expansión Mínima de un grafo no dirigido y ponderado es networkx.minimum_spanning_tree().\n",
        "\n",
        "Función: networkx.minimum_spanning_tree(G, weight='weight', algorithm='kruskal')\n",
        "\n",
        "Devuelve: Un grafo NetworkX que es el MST del grafo de entrada G.\n",
        "\n",
        "# <span style=\"color:yellow;\"> \" Ejemplo de Árbol de Expansión Mínima \"</span>\n",
        "<span style=\"color:black;\"></span>"
      ],
      "metadata": {
        "id": "HZ0y7HyVtVeM"
      }
    },
    {
      "cell_type": "code",
      "execution_count": 1,
      "metadata": {
        "colab": {
          "base_uri": "https://localhost:8080/"
        },
        "id": "EpimD1HyslCV",
        "outputId": "fd8d6963-00ef-48fc-c06e-e0843008e9e0"
      },
      "outputs": [
        {
          "output_type": "stream",
          "name": "stdout",
          "text": [
            "Arcos del Árbol de Expansión Mínima:\n",
            "(A, B): 4\n",
            "(A, C): 2\n",
            "(C, D): 3\n",
            "(C, E): 7\n",
            "(E, F): 6\n",
            "\n",
            "Peso total del MST: 22\n"
          ]
        }
      ],
      "source": [
        "import networkx as nx\n",
        "\n",
        "# 1. Crear un grafo no dirigido y ponderado\n",
        "G_mst = nx.Graph()\n",
        "G_mst.add_weighted_edges_from([\n",
        "    ('A', 'B', 4),\n",
        "    ('A', 'C', 2),\n",
        "    ('B', 'C', 5),\n",
        "    ('B', 'D', 10),\n",
        "    ('C', 'D', 3),\n",
        "    ('C', 'E', 7),\n",
        "    ('D', 'E', 8),\n",
        "    ('E', 'F', 6)\n",
        "])\n",
        "\n",
        "# 2. Calcular el Árbol de Expansión Mínima\n",
        "MST = nx.minimum_spanning_tree(G_mst)\n",
        "\n",
        "# 3. Imprimir los arcos del MST y el peso total\n",
        "mst_edges = sorted(MST.edges(data=True))\n",
        "total_weight = sum(d['weight'] for u, v, d in mst_edges)\n",
        "\n",
        "print(\"Arcos del Árbol de Expansión Mínima:\")\n",
        "# Los resultados pueden variar el orden de los nodos, pero la lista de arcos es única\n",
        "for u, v, data in mst_edges:\n",
        "    print(f\"({u}, {v}): {data['weight']}\")\n",
        "\n",
        "print(f\"\\nPeso total del MST: {total_weight}\")\n"
      ]
    },
    {
      "cell_type": "markdown",
      "source": [
        "# <span style=\"color:orange;\"> \" Ruta más Corta \"</span>\n",
        "<span style=\"color:black;\"></span>\n",
        "\n",
        "La función más común para la ruta más corta en NetworkX es networkx.shortest_path().\n",
        "\n",
        "Función: networkx.shortest_path(G, source, target, weight=None, method='dijkstra')\n",
        "\n",
        "Devuelve: Una lista de nodos que forman la ruta más corta desde source hasta target.\n",
        "\n",
        "weight: Si se especifica una clave de atributo de arco (por ejemplo, 'cost'), se utiliza Dijkstra (por defecto) o Bellman-Ford (si hay pesos negativos) para encontrar la ruta con el peso mínimo. Si es None, se utiliza BFS para encontrar el camino con la menor cantidad de arcos.\n",
        "\n",
        "# <span style=\"color:yellow;\"> \" Ejemplo de Ruta más Corta \"</span>\n",
        "<span style=\"color:black;\"></span>"
      ],
      "metadata": {
        "id": "sg7YPdcruv-q"
      }
    },
    {
      "cell_type": "code",
      "source": [
        "import networkx as nx\n",
        "\n",
        "# 1. Crear un grafo dirigido y ponderado\n",
        "G_sp = nx.DiGraph()\n",
        "G_sp.add_weighted_edges_from([\n",
        "    ('start', 'A', 5),\n",
        "    ('start', 'B', 2),\n",
        "    ('A', 'C', 4),\n",
        "    ('A', 'D', 2),\n",
        "    ('B', 'A', 8),\n",
        "    ('B', 'D', 7),\n",
        "    ('C', 'end', 3),\n",
        "    ('D', 'C', 1),\n",
        "    ('D', 'end', 6)\n",
        "], weight='cost') # Usamos 'cost' como atributo de peso\n",
        "\n",
        "source_node = 'start'\n",
        "target_node = 'end'\n",
        "\n",
        "# 2. Calcular la ruta más corta\n",
        "shortest_path = nx.shortest_path(G_sp, source=source_node, target=target_node, weight='cost')\n",
        "\n",
        "# 3. Calcular la longitud de la ruta más corta\n",
        "shortest_path_length = nx.shortest_path_length(G_sp, source=source_node, target=target_node, weight='cost')\n",
        "\n",
        "print(f\"Ruta más corta de '{source_node}' a '{target_node}': {shortest_path}\")\n",
        "print(f\"Longitud (costo) de la ruta más corta: {shortest_path_length}\")\n"
      ],
      "metadata": {
        "colab": {
          "base_uri": "https://localhost:8080/"
        },
        "id": "QTa7gI7Qv13F",
        "outputId": "b41947cb-8ef4-49c0-a4a9-1d13009c4774"
      },
      "execution_count": 2,
      "outputs": [
        {
          "output_type": "stream",
          "name": "stdout",
          "text": [
            "Ruta más corta de 'start' a 'end': ['start', 'A', 'D', 'C', 'end']\n",
            "Longitud (costo) de la ruta más corta: 11\n"
          ]
        }
      ]
    },
    {
      "cell_type": "markdown",
      "source": [
        "# <span style=\"color:orange;\"> \" Flujo Máximo \"</span>\n",
        "<span style=\"color:black;\"></span>\n",
        "\n",
        "La función para calcular el flujo máximo entre un nodo fuente y un nodo sumidero en un grafo con capacidades es networkx.maximum_flow().\n",
        "\n",
        "Función: networkx.maximum_flow(flowG, _s, _t, capacity='capacity')\n",
        "\n",
        "Devuelve: Una tupla (flow_value, flow_dict).\n",
        "\n",
        "flow_value: El valor total del flujo máximo.\n",
        "\n",
        "flow_dict: Un diccionario que contiene el flujo a través de cada arco.\n",
        "\n",
        "# <span style=\"color:yellow;\"> \" Ejemplo de Flujo Máximo \"</span>\n",
        "<span style=\"color:black;\"></span>"
      ],
      "metadata": {
        "id": "DQGjcfn1wADl"
      }
    },
    {
      "cell_type": "code",
      "source": [
        "import networkx as nx\n",
        "\n",
        "# 1. Crear un grafo dirigido con capacidades\n",
        "G_mf = nx.DiGraph()\n",
        "G_mf.add_edges_from([\n",
        "    ('s', 'v1', {'capacity': 10}),\n",
        "    ('s', 'v2', {'capacity': 5}),\n",
        "    ('v1', 'v2', {'capacity': 15}),\n",
        "    ('v1', 'v3', {'capacity': 9}),\n",
        "    ('v2', 'v4', {'capacity': 4}),\n",
        "    ('v3', 't', {'capacity': 10}),\n",
        "    ('v4', 'v3', {'capacity': 4}),\n",
        "    ('v4', 't', {'capacity': 6}),\n",
        "])\n",
        "\n",
        "source_node = 's'\n",
        "sink_node = 't'\n",
        "\n",
        "# 2. Calcular el Flujo Máximo\n",
        "flow_value, flow_dict = nx.maximum_flow(G_mf, source_node, sink_node, capacity='capacity')\n",
        "\n",
        "# 3. Imprimir el valor del flujo máximo y el flujo por arco\n",
        "print(f\"Valor del Flujo Máximo de '{source_node}' a '{sink_node}': {flow_value}\")\n",
        "print(\"\\nFlujo por arco:\")\n",
        "for u, v_flows in flow_dict.items():\n",
        "    for v, flow in v_flows.items():\n",
        "        if flow > 0:\n",
        "            print(f\"Flujo de {u} a {v}: {flow}\")"
      ],
      "metadata": {
        "colab": {
          "base_uri": "https://localhost:8080/"
        },
        "id": "SiA6dQNuySd9",
        "outputId": "a2b0c8ff-b699-4434-d976-7ff341252964"
      },
      "execution_count": 3,
      "outputs": [
        {
          "output_type": "stream",
          "name": "stdout",
          "text": [
            "Valor del Flujo Máximo de 's' a 't': 13\n",
            "\n",
            "Flujo por arco:\n",
            "Flujo de s a v1: 9\n",
            "Flujo de s a v2: 4\n",
            "Flujo de v1 a v3: 9\n",
            "Flujo de v2 a v4: 4\n",
            "Flujo de v3 a t: 9\n",
            "Flujo de v4 a t: 4\n"
          ]
        }
      ]
    }
  ]
}